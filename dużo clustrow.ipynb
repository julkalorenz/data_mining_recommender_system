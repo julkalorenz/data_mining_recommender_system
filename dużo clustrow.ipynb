{
 "cells": [
  {
   "cell_type": "code",
   "execution_count": 1,
   "id": "949529d8",
   "metadata": {},
   "outputs": [],
   "source": [
    "import numpy as np\n",
    "import pandas as pd\n",
    "import matplotlib.pyplot as plt\n",
    "import seaborn as sns\n"
   ]
  },
  {
   "cell_type": "code",
   "execution_count": 2,
   "id": "9dca1e29",
   "metadata": {},
   "outputs": [],
   "source": [
    "ratings_df = pd.read_csv(\"dataBig/ratings.csv\").drop(\"timestamp\", axis=1)"
   ]
  },
  {
   "cell_type": "code",
   "execution_count": 3,
   "id": "5f216894",
   "metadata": {},
   "outputs": [
    {
     "data": {
      "text/html": [
       "<div>\n",
       "<style scoped>\n",
       "    .dataframe tbody tr th:only-of-type {\n",
       "        vertical-align: middle;\n",
       "    }\n",
       "\n",
       "    .dataframe tbody tr th {\n",
       "        vertical-align: top;\n",
       "    }\n",
       "\n",
       "    .dataframe thead th {\n",
       "        text-align: right;\n",
       "    }\n",
       "</style>\n",
       "<table border=\"1\" class=\"dataframe\">\n",
       "  <thead>\n",
       "    <tr style=\"text-align: right;\">\n",
       "      <th></th>\n",
       "      <th>userId</th>\n",
       "      <th>movieId</th>\n",
       "      <th>rating</th>\n",
       "    </tr>\n",
       "  </thead>\n",
       "  <tbody>\n",
       "    <tr>\n",
       "      <th>0</th>\n",
       "      <td>254775</td>\n",
       "      <td>6870</td>\n",
       "      <td>3.5</td>\n",
       "    </tr>\n",
       "    <tr>\n",
       "      <th>1</th>\n",
       "      <td>123364</td>\n",
       "      <td>2571</td>\n",
       "      <td>4.5</td>\n",
       "    </tr>\n",
       "    <tr>\n",
       "      <th>2</th>\n",
       "      <td>311036</td>\n",
       "      <td>165699</td>\n",
       "      <td>2.5</td>\n",
       "    </tr>\n",
       "    <tr>\n",
       "      <th>3</th>\n",
       "      <td>14961</td>\n",
       "      <td>509</td>\n",
       "      <td>3.0</td>\n",
       "    </tr>\n",
       "    <tr>\n",
       "      <th>4</th>\n",
       "      <td>73223</td>\n",
       "      <td>1200</td>\n",
       "      <td>4.0</td>\n",
       "    </tr>\n",
       "    <tr>\n",
       "      <th>...</th>\n",
       "      <td>...</td>\n",
       "      <td>...</td>\n",
       "      <td>...</td>\n",
       "    </tr>\n",
       "    <tr>\n",
       "      <th>33832157</th>\n",
       "      <td>18606</td>\n",
       "      <td>457</td>\n",
       "      <td>4.0</td>\n",
       "    </tr>\n",
       "    <tr>\n",
       "      <th>33832158</th>\n",
       "      <td>25653</td>\n",
       "      <td>96020</td>\n",
       "      <td>5.0</td>\n",
       "    </tr>\n",
       "    <tr>\n",
       "      <th>33832159</th>\n",
       "      <td>56721</td>\n",
       "      <td>1682</td>\n",
       "      <td>5.0</td>\n",
       "    </tr>\n",
       "    <tr>\n",
       "      <th>33832160</th>\n",
       "      <td>181122</td>\n",
       "      <td>592</td>\n",
       "      <td>3.0</td>\n",
       "    </tr>\n",
       "    <tr>\n",
       "      <th>33832161</th>\n",
       "      <td>132738</td>\n",
       "      <td>113348</td>\n",
       "      <td>0.5</td>\n",
       "    </tr>\n",
       "  </tbody>\n",
       "</table>\n",
       "<p>33832162 rows × 3 columns</p>\n",
       "</div>"
      ],
      "text/plain": [
       "          userId  movieId  rating\n",
       "0         254775     6870     3.5\n",
       "1         123364     2571     4.5\n",
       "2         311036   165699     2.5\n",
       "3          14961      509     3.0\n",
       "4          73223     1200     4.0\n",
       "...          ...      ...     ...\n",
       "33832157   18606      457     4.0\n",
       "33832158   25653    96020     5.0\n",
       "33832159   56721     1682     5.0\n",
       "33832160  181122      592     3.0\n",
       "33832161  132738   113348     0.5\n",
       "\n",
       "[33832162 rows x 3 columns]"
      ]
     },
     "execution_count": 3,
     "metadata": {},
     "output_type": "execute_result"
    }
   ],
   "source": [
    "ratings_df =  ratings_df.sample(frac=1, random_state=420).reset_index(drop=True)\n",
    "ratings_df"
   ]
  },
  {
   "cell_type": "code",
   "execution_count": 4,
   "id": "8953a3c5",
   "metadata": {},
   "outputs": [
    {
     "name": "stdout",
     "output_type": "stream",
     "text": [
      "330975\n"
     ]
    },
    {
     "data": {
      "text/plain": [
       "83239"
      ]
     },
     "execution_count": 4,
     "metadata": {},
     "output_type": "execute_result"
    }
   ],
   "source": [
    "print(len(ratings_df[\"userId\"].unique()))\n",
    "len(ratings_df[\"movieId\"].unique())"
   ]
  },
  {
   "cell_type": "code",
   "execution_count": 5,
   "id": "22bb2921",
   "metadata": {},
   "outputs": [],
   "source": [
    "test_ratings_df = ratings_df.sample(int(len(ratings_df)*0.1), random_state=420)\n",
    "sampled_indices = test_ratings_df.index\n",
    "\n",
    "test_pairs =  test_ratings_df[[\"userId\", \"movieId\"]]\n",
    "actual_ratings = test_ratings_df[\"rating\"]\n",
    "remaining_df = ratings_df.drop(sampled_indices)\n",
    "\n",
    "del ratings_df\n",
    "del sampled_indices"
   ]
  },
  {
   "cell_type": "code",
   "execution_count": null,
   "id": "ac07c566",
   "metadata": {},
   "outputs": [],
   "source": []
  },
  {
   "cell_type": "code",
   "execution_count": 6,
   "id": "81941d77",
   "metadata": {},
   "outputs": [],
   "source": [
    "# Removing rarly scored movies\n",
    "movie_counts = remaining_df['movieId'].value_counts()\n",
    "rare_movies = movie_counts[movie_counts < 5].index\n",
    "remaining_df = remaining_df[~remaining_df['movieId'].isin(rare_movies)]\n",
    "del rare_movies"
   ]
  },
  {
   "cell_type": "code",
   "execution_count": 7,
   "id": "8993d7d8",
   "metadata": {},
   "outputs": [],
   "source": [
    "remaining_df = remaining_df[remaining_df[\"rating\"] >= 4 ]"
   ]
  },
  {
   "cell_type": "code",
   "execution_count": 8,
   "id": "35bc6d07",
   "metadata": {},
   "outputs": [],
   "source": [
    "# remaining_df = remaining_df.iloc[:1000]\n",
    "movies = remaining_df[\"movieId\"].unique()\n",
    "users = remaining_df[\"userId\"].unique()"
   ]
  },
  {
   "cell_type": "code",
   "execution_count": 9,
   "id": "580f2cd5",
   "metadata": {},
   "outputs": [],
   "source": [
    "from sklearn.cluster import MiniBatchKMeans, KMeans\n",
    "# import warnings\n",
    "# # warnings.filterwarnings('ignore')"
   ]
  },
  {
   "cell_type": "code",
   "execution_count": 10,
   "id": "1a167087",
   "metadata": {},
   "outputs": [
    {
     "name": "stdout",
     "output_type": "stream",
     "text": [
      "Iteration 0\n",
      "Iteration 1\n",
      "Iteration 2\n",
      "Iteration 3\n",
      "Iteration 4\n",
      "Iteration 5\n",
      "Iteration 6\n",
      "Iteration 7\n",
      "Iteration 8\n",
      "Iteration 9\n",
      "Iteration 10\n",
      "Iteration 11\n",
      "Iteration 12\n",
      "Iteration 13\n",
      "Iteration 14\n",
      "Iteration 15\n",
      "Iteration 16\n",
      "Iteration 17\n",
      "Iteration 18\n",
      "Iteration 19\n",
      "Iteration 20\n",
      "Iteration 21\n",
      "Iteration 22\n",
      "Iteration 23\n",
      "Iteration 24\n",
      "Iteration 25\n",
      "Iteration 26\n",
      "Iteration 27\n",
      "Iteration 28\n",
      "Iteration 29\n",
      "Iteration 30\n",
      "Iteration 31\n",
      "Iteration 32\n",
      "Iteration 33\n",
      "Iteration 34\n",
      "Iteration 35\n",
      "Iteration 36\n",
      "Iteration 37\n",
      "Iteration 38\n",
      "Iteration 39\n",
      "Iteration 40\n",
      "Iteration 41\n",
      "Iteration 42\n",
      "Iteration 43\n",
      "Iteration 44\n",
      "Iteration 45\n",
      "Iteration 46\n",
      "Iteration 47\n",
      "Iteration 48\n",
      "CPU times: user 12min 41s, sys: 1min 7s, total: 13min 49s\n",
      "Wall time: 8min 28s\n"
     ]
    }
   ],
   "source": [
    "%%time\n",
    "kmeans = MiniBatchKMeans(n_clusters=111,\n",
    "                         random_state=420,\n",
    "                         n_init=\"auto\")\n",
    "          \n",
    "number_of_batches = 49\n",
    "\n",
    "\n",
    "for iteration, users_batch in enumerate(np.array_split(users, number_of_batches)):\n",
    "    print(f\"Iteration {iteration}\")\n",
    "    \n",
    "    ratings = remaining_df.loc[remaining_df[\"userId\"].isin(users_batch)]\n",
    "#     print(ratings)\n",
    "    X = pd.pivot_table(ratings, index=[\"userId\"], columns=\"movieId\").fillna(False).astype(bool)\n",
    "    X.columns = X.columns.get_level_values(1)\n",
    "    X = X.reindex(columns = movies, fill_value=False)\n",
    "\n",
    "    kmeans.partial_fit(X)\n",
    "# \n",
    "    "
   ]
  },
  {
   "cell_type": "code",
   "execution_count": 11,
   "id": "03b58191",
   "metadata": {},
   "outputs": [
    {
     "name": "stdout",
     "output_type": "stream",
     "text": [
      "Iteration 0\n",
      "Iteration 1\n",
      "Iteration 2\n",
      "Iteration 3\n",
      "Iteration 4\n",
      "Iteration 5\n",
      "Iteration 6\n",
      "Iteration 7\n",
      "Iteration 8\n",
      "Iteration 9\n",
      "Iteration 10\n",
      "Iteration 11\n",
      "Iteration 12\n",
      "Iteration 13\n",
      "Iteration 14\n",
      "Iteration 15\n",
      "Iteration 16\n",
      "Iteration 17\n",
      "Iteration 18\n",
      "Iteration 19\n",
      "Iteration 20\n",
      "Iteration 21\n",
      "Iteration 22\n",
      "Iteration 23\n",
      "Iteration 24\n",
      "Iteration 25\n",
      "Iteration 26\n",
      "Iteration 27\n",
      "Iteration 28\n",
      "Iteration 29\n",
      "Iteration 30\n",
      "Iteration 31\n",
      "Iteration 32\n",
      "Iteration 33\n",
      "Iteration 34\n",
      "Iteration 35\n",
      "Iteration 36\n",
      "Iteration 37\n",
      "Iteration 38\n",
      "Iteration 39\n",
      "Iteration 40\n",
      "Iteration 41\n",
      "Iteration 42\n",
      "Iteration 43\n",
      "Iteration 44\n",
      "Iteration 45\n",
      "Iteration 46\n",
      "Iteration 47\n",
      "Iteration 48\n"
     ]
    },
    {
     "data": {
      "text/plain": [
       "<Axes: xlabel='cluster', ylabel='count'>"
      ]
     },
     "execution_count": 11,
     "metadata": {},
     "output_type": "execute_result"
    },
    {
     "data": {
      "image/png": "[encoded data removed]",
      "text/plain": [
       "<Figure size 640x480 with 1 Axes>"
      ]
     },
     "metadata": {},
     "output_type": "display_data"
    }
   ],
   "source": [
    "%%time\n",
    "\n",
    "user_clusters = pd.DataFrame({\"userId\": users, \"cluster\": 99}).set_index(\"userId\")\n",
    "user_clusters\n",
    "\n",
    "x=0\n",
    "for iteration, users_batch in enumerate(np.array_split(users, number_of_batches)):\n",
    "    print(f\"Iteration {iteration}\")\n",
    "    \n",
    "    ratings = remaining_df.loc[remaining_df[\"userId\"].isin(users_batch)]\n",
    "    X = pd.pivot_table(ratings, index=\"userId\", columns=\"movieId\").fillna(False).astype(bool)\n",
    "    X.columns = X.columns.get_level_values(1)\n",
    "    X = X.reindex(columns = movies, fill_value=False)\n",
    "    \n",
    "    batch_clusters = kmeans.predict(X)\n",
    "    for i, user_id in enumerate(users_batch):\n",
    "        user_clusters.loc[user_id, \"cluster\"] = batch_clusters[i]\n",
    "\n",
    "sns.countplot(data = user_clusters, x = \"cluster\")"
   ]
  },
  {
   "cell_type": "code",
   "execution_count": 12,
   "id": "b439c4c1",
   "metadata": {},
   "outputs": [
    {
     "data": {
      "text/plain": [
       "<Axes: xlabel='cluster', ylabel='count'>"
      ]
     },
     "execution_count": 12,
     "metadata": {},
     "output_type": "execute_result"
    },
    {
     "data": {
      "image/png": "[encoded data removed]",
      "text/plain": [
       "<Figure size 640x480 with 1 Axes>"
      ]
     },
     "metadata": {},
     "output_type": "display_data"
    }
   ],
   "source": [
    "sns.countplot(data = user_clusters, x = \"cluster\")"
   ]
  },
  {
   "cell_type": "code",
   "execution_count": null,
   "id": "cd24fffb",
   "metadata": {},
   "outputs": [],
   "source": []
  },
  {
   "cell_type": "code",
   "execution_count": 13,
   "id": "991a0918",
   "metadata": {},
   "outputs": [],
   "source": [
    "remaining_df = pd.merge(remaining_df, user_clusters, how=\"left\", on=\"userId\")"
   ]
  },
  {
   "cell_type": "code",
   "execution_count": 14,
   "id": "4dc3b775",
   "metadata": {},
   "outputs": [],
   "source": [
    "cluster_ratings = remaining_df.drop(\"userId\", axis=1).groupby([\"cluster\", \"movieId\"]).mean()\n"
   ]
  },
  {
   "cell_type": "code",
   "execution_count": 15,
   "id": "6638b581",
   "metadata": {},
   "outputs": [
    {
     "name": "stdout",
     "output_type": "stream",
     "text": [
      "0.0018902133354772501\n",
      "0.029506836099143535\n",
      "0.0038221029931284315\n"
     ]
    },
    {
     "data": {
      "text/plain": [
       "1.7500374926171383"
      ]
     },
     "execution_count": 15,
     "metadata": {},
     "output_type": "execute_result"
    }
   ],
   "source": [
    "%%time\n",
    "\n",
    "from sklearn.metrics import mean_squared_error\n",
    "\n",
    "users_not_in_training = 0\n",
    "movies_not_watched_in_cluster = 0\n",
    "movie_not_in_training = 0\n",
    "\n",
    "average_ranking = remaining_df[\"rating\"].mean()\n",
    "def predict(user_id, movie_id):\n",
    "    global users_not_in_training, movies_not_watched_in_cluster, movie_not_in_training\n",
    "\n",
    "    if user_id not in user_clusters.index:\n",
    "        users_not_in_training += 1\n",
    "        return average_ranking\n",
    "    \n",
    "    cluster = int(user_clusters.loc[user_id, \"cluster\"])\n",
    "    \n",
    "    try:\n",
    "        rating = cluster_ratings.loc[(cluster, movie_id), \"rating\"]\n",
    "        \n",
    "    except KeyError:\n",
    "        rating = remaining_df.loc[remaining_df[\"movieId\"] == movie_id][\"rating\"].mean()\n",
    "        if np.isnan(rating):\n",
    "            movie_not_in_training += 1\n",
    "            return average_ranking\n",
    "        else:\n",
    "            movies_not_watched_in_cluster += 1\n",
    "            return rating\n",
    "\n",
    "        \n",
    "    return rating\n",
    "    \n",
    "y_predicted = np.array([predict(user_id, movie_id) for user_id, movie_id in zip(test_pairs[\"userId\"] ,test_pairs[\"movieId\"])])\n",
    "total = len(y_predicted)\n",
    "\n",
    "print(users_not_in_training/total)\n",
    "print(movies_not_watched_in_cluster/total)\n",
    "print(movie_not_in_training/total)\n",
    "\n",
    "y_predicted\n",
    "    \n",
    "mean_squared_error(y_predicted, actual_ratings)\n"
   ]
  },
  {
   "cell_type": "code",
   "execution_count": 16,
   "id": "8e20a08a",
   "metadata": {},
   "outputs": [
    {
     "data": {
      "text/html": [
       "<div>\n",
       "<style scoped>\n",
       "    .dataframe tbody tr th:only-of-type {\n",
       "        vertical-align: middle;\n",
       "    }\n",
       "\n",
       "    .dataframe tbody tr th {\n",
       "        vertical-align: top;\n",
       "    }\n",
       "\n",
       "    .dataframe thead th {\n",
       "        text-align: right;\n",
       "    }\n",
       "</style>\n",
       "<table border=\"1\" class=\"dataframe\">\n",
       "  <thead>\n",
       "    <tr style=\"text-align: right;\">\n",
       "      <th></th>\n",
       "      <th>rating</th>\n",
       "    </tr>\n",
       "    <tr>\n",
       "      <th>movieId</th>\n",
       "      <th></th>\n",
       "    </tr>\n",
       "  </thead>\n",
       "  <tbody>\n",
       "    <tr>\n",
       "      <th>1</th>\n",
       "      <td>3.893508</td>\n",
       "    </tr>\n",
       "    <tr>\n",
       "      <th>2</th>\n",
       "      <td>3.278179</td>\n",
       "    </tr>\n",
       "    <tr>\n",
       "      <th>3</th>\n",
       "      <td>3.171271</td>\n",
       "    </tr>\n",
       "    <tr>\n",
       "      <th>4</th>\n",
       "      <td>2.868395</td>\n",
       "    </tr>\n",
       "    <tr>\n",
       "      <th>5</th>\n",
       "      <td>3.076957</td>\n",
       "    </tr>\n",
       "    <tr>\n",
       "      <th>...</th>\n",
       "      <td>...</td>\n",
       "    </tr>\n",
       "    <tr>\n",
       "      <th>288967</th>\n",
       "      <td>3.500000</td>\n",
       "    </tr>\n",
       "    <tr>\n",
       "      <th>288971</th>\n",
       "      <td>0.500000</td>\n",
       "    </tr>\n",
       "    <tr>\n",
       "      <th>288975</th>\n",
       "      <td>4.000000</td>\n",
       "    </tr>\n",
       "    <tr>\n",
       "      <th>288977</th>\n",
       "      <td>3.000000</td>\n",
       "    </tr>\n",
       "    <tr>\n",
       "      <th>288983</th>\n",
       "      <td>3.000000</td>\n",
       "    </tr>\n",
       "  </tbody>\n",
       "</table>\n",
       "<p>83239 rows × 1 columns</p>\n",
       "</div>"
      ],
      "text/plain": [
       "           rating\n",
       "movieId          \n",
       "1        3.893508\n",
       "2        3.278179\n",
       "3        3.171271\n",
       "4        2.868395\n",
       "5        3.076957\n",
       "...           ...\n",
       "288967   3.500000\n",
       "288971   0.500000\n",
       "288975   4.000000\n",
       "288977   3.000000\n",
       "288983   3.000000\n",
       "\n",
       "[83239 rows x 1 columns]"
      ]
     },
     "execution_count": 16,
     "metadata": {},
     "output_type": "execute_result"
    }
   ],
   "source": [
    "just_fucking_averages = ratings_df = pd.read_csv(\"dataBig/ratings.csv\").drop([\"timestamp\", \"userId\"], axis=1).groupby(\"movieId\").mean()\n",
    "just_fucking_averages"
   ]
  },
  {
   "cell_type": "code",
   "execution_count": 17,
   "id": "e0f6496b",
   "metadata": {},
   "outputs": [
    {
     "name": "stdout",
     "output_type": "stream",
     "text": [
      "CPU times: user 13.5 s, sys: 59.4 ms, total: 13.5 s\n",
      "Wall time: 13.6 s\n"
     ]
    },
    {
     "data": {
      "text/plain": [
       "0.925742050126255"
      ]
     },
     "execution_count": 17,
     "metadata": {},
     "output_type": "execute_result"
    }
   ],
   "source": [
    "%%time\n",
    "def alternative_predictor(user_id, movie_id):\n",
    "    return just_fucking_averages.at[movie_id, \"rating\"]\n",
    "\n",
    "\n",
    "y_predicted = np.array([alternative_predictor(user_id, movie_id) for user_id, movie_id in zip(test_pairs[\"userId\"] ,test_pairs[\"movieId\"])])\n",
    "    \n",
    "mean_squared_error(y_predicted, actual_ratings)"
   ]
  },
  {
   "cell_type": "code",
   "execution_count": 18,
   "id": "8cd8db43",
   "metadata": {},
   "outputs": [],
   "source": [
    "#Zabije sie"
   ]
  }
 ],
 "metadata": {
  "kernelspec": {
   "display_name": "Python 3 (ipykernel)",
   "language": "python",
   "name": "python3"
  },
  "language_info": {
   "codemirror_mode": {
    "name": "ipython",
    "version": 3
   },
   "file_extension": ".py",
   "mimetype": "text/x-python",
   "name": "python",
   "nbconvert_exporter": "python",
   "pygments_lexer": "ipython3",
   "version": "3.9.13"
  }
 },
 "nbformat": 4,
 "nbformat_minor": 5
}
