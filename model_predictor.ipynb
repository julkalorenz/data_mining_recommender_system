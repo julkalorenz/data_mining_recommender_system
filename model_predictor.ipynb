{
 "cells": [
  {
   "cell_type": "code",
   "execution_count": 1,
   "metadata": {},
   "outputs": [],
   "source": [
    "import pandas as pd\n",
    "\n",
    "cluster_ratings = pd.read_csv(\"model_data/cluster_ratings.csv\")\n",
    "user_clusters = pd.read_csv(\"model_data/user_cluster.csv\")\n",
    "average_ranking = 3.542482670890458\n"
   ]
  },
  {
   "cell_type": "code",
   "execution_count": 2,
   "metadata": {},
   "outputs": [],
   "source": [
    "def predict(user_id, movie_id):\n",
    "    if user_id not in user_clusters.index:\n",
    "        return average_ranking\n",
    "    \n",
    "    try:\n",
    "        rating = cluster_ratings.at[(user_clusters.at[user_id, \"cluster\"], movie_id), \"rating\"]\n",
    "        \n",
    "    except KeyError:\n",
    "        return average_ranking\n",
    "        \n",
    "    return rating"
   ]
  },
  {
   "cell_type": "code",
   "execution_count": 3,
   "metadata": {},
   "outputs": [],
   "source": [
    "test_data = pd.read_csv(\"test_data/tests.csv\")"
   ]
  },
  {
   "cell_type": "code",
   "execution_count": 4,
   "metadata": {},
   "outputs": [
    {
     "data": {
      "text/plain": [
       "0          4.0\n",
       "1          3.0\n",
       "2          3.0\n",
       "3          2.0\n",
       "4          1.5\n",
       "          ... \n",
       "6766427    5.0\n",
       "6766428    3.0\n",
       "6766429    3.0\n",
       "6766430    3.5\n",
       "6766431    4.5\n",
       "Name: rating, Length: 6766432, dtype: float64"
      ]
     },
     "execution_count": 4,
     "metadata": {},
     "output_type": "execute_result"
    }
   ],
   "source": [
    "actual = test_data[\"rating\"]\n",
    "actual"
   ]
  },
  {
   "cell_type": "code",
   "execution_count": 5,
   "metadata": {},
   "outputs": [],
   "source": [
    "test_data.drop(\"rating\", axis=1, inplace=True)"
   ]
  },
  {
   "cell_type": "code",
   "execution_count": 6,
   "metadata": {},
   "outputs": [
    {
     "data": {
      "text/plain": [
       "userId     0\n",
       "movieId    0\n",
       "dtype: int64"
      ]
     },
     "execution_count": 6,
     "metadata": {},
     "output_type": "execute_result"
    }
   ],
   "source": [
    "test_data.isna().sum()"
   ]
  },
  {
   "cell_type": "code",
   "execution_count": 7,
   "metadata": {},
   "outputs": [
    {
     "name": "stdout",
     "output_type": "stream",
     "text": [
      "Mean Squared Error:  1.131727973615828\n"
     ]
    }
   ],
   "source": [
    "# example of test\n",
    "from sklearn.metrics import mean_squared_error\n",
    "import numpy as np\n",
    "\n",
    "\n",
    "y_predict = test_data.apply(lambda x: predict(x[\"userId\"], x[\"movieId\"]), axis=1)\n",
    "error = mean_squared_error(y_predict, actual)\n",
    "\n",
    "\n",
    "print(\"Mean Squared Error: \", error)"
   ]
  }
 ],
 "metadata": {
  "kernelspec": {
   "display_name": "base",
   "language": "python",
   "name": "python3"
  },
  "language_info": {
   "codemirror_mode": {
    "name": "ipython",
    "version": 3
   },
   "file_extension": ".py",
   "mimetype": "text/x-python",
   "name": "python",
   "nbconvert_exporter": "python",
   "pygments_lexer": "ipython3",
   "version": "3.8.16"
  }
 },
 "nbformat": 4,
 "nbformat_minor": 2
}
