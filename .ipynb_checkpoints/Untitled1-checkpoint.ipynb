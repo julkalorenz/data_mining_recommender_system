{
 "cells": [
  {
   "cell_type": "code",
   "execution_count": 1,
   "id": "949529d8",
   "metadata": {},
   "outputs": [],
   "source": [
    "import numpy as np\n",
    "import pandas as pd\n",
    "import matplotlib.pyplot as plt\n",
    "import seaborn as sns\n"
   ]
  },
  {
   "cell_type": "code",
   "execution_count": 3,
   "id": "9dca1e29",
   "metadata": {},
   "outputs": [],
   "source": [
    "ratings_df = pd.read_csv(\"data/ratings.csv\").drop(\"timestamp\", axis=1)"
   ]
  },
  {
   "cell_type": "code",
   "execution_count": 4,
   "id": "5f216894",
   "metadata": {},
   "outputs": [
    {
     "data": {
      "text/html": [
       "<div>\n",
       "<style scoped>\n",
       "    .dataframe tbody tr th:only-of-type {\n",
       "        vertical-align: middle;\n",
       "    }\n",
       "\n",
       "    .dataframe tbody tr th {\n",
       "        vertical-align: top;\n",
       "    }\n",
       "\n",
       "    .dataframe thead th {\n",
       "        text-align: right;\n",
       "    }\n",
       "</style>\n",
       "<table border=\"1\" class=\"dataframe\">\n",
       "  <thead>\n",
       "    <tr style=\"text-align: right;\">\n",
       "      <th></th>\n",
       "      <th>userId</th>\n",
       "      <th>movieId</th>\n",
       "      <th>rating</th>\n",
       "    </tr>\n",
       "  </thead>\n",
       "  <tbody>\n",
       "    <tr>\n",
       "      <th>0</th>\n",
       "      <td>398</td>\n",
       "      <td>8738</td>\n",
       "      <td>5.0</td>\n",
       "    </tr>\n",
       "    <tr>\n",
       "      <th>1</th>\n",
       "      <td>275</td>\n",
       "      <td>5147</td>\n",
       "      <td>3.0</td>\n",
       "    </tr>\n",
       "    <tr>\n",
       "      <th>2</th>\n",
       "      <td>479</td>\n",
       "      <td>31</td>\n",
       "      <td>3.0</td>\n",
       "    </tr>\n",
       "    <tr>\n",
       "      <th>3</th>\n",
       "      <td>68</td>\n",
       "      <td>1240</td>\n",
       "      <td>4.0</td>\n",
       "    </tr>\n",
       "    <tr>\n",
       "      <th>4</th>\n",
       "      <td>111</td>\n",
       "      <td>5816</td>\n",
       "      <td>4.0</td>\n",
       "    </tr>\n",
       "    <tr>\n",
       "      <th>...</th>\n",
       "      <td>...</td>\n",
       "      <td>...</td>\n",
       "      <td>...</td>\n",
       "    </tr>\n",
       "    <tr>\n",
       "      <th>100831</th>\n",
       "      <td>307</td>\n",
       "      <td>2005</td>\n",
       "      <td>4.0</td>\n",
       "    </tr>\n",
       "    <tr>\n",
       "      <th>100832</th>\n",
       "      <td>413</td>\n",
       "      <td>296</td>\n",
       "      <td>5.0</td>\n",
       "    </tr>\n",
       "    <tr>\n",
       "      <th>100833</th>\n",
       "      <td>139</td>\n",
       "      <td>81229</td>\n",
       "      <td>2.0</td>\n",
       "    </tr>\n",
       "    <tr>\n",
       "      <th>100834</th>\n",
       "      <td>414</td>\n",
       "      <td>542</td>\n",
       "      <td>2.0</td>\n",
       "    </tr>\n",
       "    <tr>\n",
       "      <th>100835</th>\n",
       "      <td>68</td>\n",
       "      <td>8807</td>\n",
       "      <td>4.0</td>\n",
       "    </tr>\n",
       "  </tbody>\n",
       "</table>\n",
       "<p>100836 rows × 3 columns</p>\n",
       "</div>"
      ],
      "text/plain": [
       "        userId  movieId  rating\n",
       "0          398     8738     5.0\n",
       "1          275     5147     3.0\n",
       "2          479       31     3.0\n",
       "3           68     1240     4.0\n",
       "4          111     5816     4.0\n",
       "...        ...      ...     ...\n",
       "100831     307     2005     4.0\n",
       "100832     413      296     5.0\n",
       "100833     139    81229     2.0\n",
       "100834     414      542     2.0\n",
       "100835      68     8807     4.0\n",
       "\n",
       "[100836 rows x 3 columns]"
      ]
     },
     "execution_count": 4,
     "metadata": {},
     "output_type": "execute_result"
    }
   ],
   "source": [
    "ratings_df =  ratings_df.sample(frac=1, random_state=420).reset_index(drop=True)\n",
    "ratings_df"
   ]
  },
  {
   "cell_type": "code",
   "execution_count": 5,
   "id": "8953a3c5",
   "metadata": {},
   "outputs": [
    {
     "name": "stdout",
     "output_type": "stream",
     "text": [
      "610\n"
     ]
    },
    {
     "data": {
      "text/plain": [
       "9724"
      ]
     },
     "execution_count": 5,
     "metadata": {},
     "output_type": "execute_result"
    }
   ],
   "source": [
    "print(len(ratings_df[\"userId\"].unique()))\n",
    "len(ratings_df[\"movieId\"].unique())"
   ]
  },
  {
   "cell_type": "code",
   "execution_count": 6,
   "id": "22bb2921",
   "metadata": {},
   "outputs": [],
   "source": [
    "test_ratings_df = ratings_df.sample(int(len(ratings_df)*0.1), random_state=420)\n",
    "sampled_indices = test_ratings_df.index\n",
    "\n",
    "test_pairs =  test_ratings_df[[\"userId\", \"movieId\"]]\n",
    "actual_ratings = test_ratings_df[\"rating\"]\n",
    "remaining_df = ratings_df.drop(sampled_indices)\n",
    "\n",
    "del ratings_df\n",
    "del sampled_indices"
   ]
  },
  {
   "cell_type": "code",
   "execution_count": null,
   "id": "ac07c566",
   "metadata": {},
   "outputs": [],
   "source": []
  },
  {
   "cell_type": "code",
   "execution_count": 7,
   "id": "81941d77",
   "metadata": {},
   "outputs": [],
   "source": [
    "# Removing rarly scored movies\n",
    "movie_counts = remaining_df['movieId'].value_counts()\n",
    "rare_movies = movie_counts[movie_counts < 5].index\n",
    "remaining_df = remaining_df[~remaining_df['movieId'].isin(rare_movies)]\n",
    "del rare_movies"
   ]
  },
  {
   "cell_type": "code",
   "execution_count": 8,
   "id": "8993d7d8",
   "metadata": {},
   "outputs": [],
   "source": [
    "remaining_df = remaining_df[remaining_df[\"rating\"] >= 4 ]"
   ]
  },
  {
   "cell_type": "code",
   "execution_count": 9,
   "id": "35bc6d07",
   "metadata": {},
   "outputs": [],
   "source": [
    "# remaining_df = remaining_df.iloc[:1000]\n",
    "movies = remaining_df[\"movieId\"].unique()\n",
    "users = remaining_df[\"userId\"].unique()\n",
    "\n",
    "remaining_df[\"cluster\"] = None"
   ]
  },
  {
   "cell_type": "code",
   "execution_count": 36,
   "id": "580f2cd5",
   "metadata": {},
   "outputs": [],
   "source": [
    "from sklearn.cluster import MiniBatchKMeans\n",
    "import warnings\n",
    "# warnings.filterwarnings('ignore')"
   ]
  },
  {
   "cell_type": "code",
   "execution_count": 55,
   "id": "1a167087",
   "metadata": {},
   "outputs": [
    {
     "name": "stdout",
     "output_type": "stream",
     "text": [
      "Iteration 0\n",
      "Iteration 1\n",
      "Iteration 2\n",
      "Iteration 3\n",
      "Iteration 4\n",
      "Iteration 5\n",
      "Iteration 6\n",
      "Iteration 7\n",
      "Iteration 8\n",
      "Iteration 9\n"
     ]
    }
   ],
   "source": [
    "kmeans = MiniBatchKMeans(n_clusters=5,\n",
    "                         random_state=420,\n",
    "                         n_init=\"auto\")\n",
    "number_of_batches = 10\n",
    "\n",
    "\n",
    "for iteration, users_batch in enumerate(np.array_split(users, number_of_batches)):\n",
    "    print(f\"Iteration {iteration}\")\n",
    "    \n",
    "    ratings = remaining_df.loc[remaining_df[\"userId\"].isin(users_batch)]\n",
    "    X = pd.pivot_table(ratings, index=\"userId\", columns=\"movieId\").fillna(False).astype(bool)\n",
    "    X.columns = X.columns.get_level_values(1)\n",
    "    X = X.reindex(columns = movies, fill_value=False)\n",
    "\n",
    "    kmeans.partial_fit(X)\n",
    "    "
   ]
  },
  {
   "cell_type": "code",
   "execution_count": 57,
   "id": "75df53ba",
   "metadata": {},
   "outputs": [
    {
     "name": "stdout",
     "output_type": "stream",
     "text": [
      "Iteration 0\n",
      "Iteration 1\n",
      "Iteration 2\n",
      "Iteration 3\n",
      "Iteration 4\n",
      "Iteration 5\n",
      "Iteration 6\n",
      "Iteration 7\n",
      "Iteration 8\n",
      "Iteration 9\n"
     ]
    }
   ],
   "source": [
    "user_clusters = pd.DataFrame({\"user\": users, \"cluster\": 99}).set_index(\"user\")\n",
    "user_clusters\n",
    "\n",
    "x=0\n",
    "for iteration, users_batch in enumerate(np.array_split(users, number_of_batches)):\n",
    "    print(f\"Iteration {iteration}\")\n",
    "    \n",
    "    ratings = remaining_df.loc[remaining_df[\"userId\"].isin(users_batch)]\n",
    "    X = pd.pivot_table(ratings, index=\"userId\", columns=\"movieId\").fillna(False).astype(bool)\n",
    "    X.columns = X.columns.get_level_values(1)\n",
    "    X = X.reindex(columns = movies, fill_value=False)\n",
    "    \n",
    "    batch_clusters = kmeans.predict(X)\n",
    "    \n",
    "    for i, user_id in enumerate(users_batch):\n",
    "        user_clusters.loc[user_id, \"cluster\"] = batch_clusters[i]"
   ]
  },
  {
   "cell_type": "code",
   "execution_count": 58,
   "id": "cd24fffb",
   "metadata": {},
   "outputs": [
    {
     "data": {
      "text/plain": [
       "array([0, 2, 3, 4, 1])"
      ]
     },
     "execution_count": 58,
     "metadata": {},
     "output_type": "execute_result"
    }
   ],
   "source": [
    "user_clusters[\"cluster\"].unique()"
   ]
  },
  {
   "cell_type": "code",
   "execution_count": 29,
   "id": "991a0918",
   "metadata": {},
   "outputs": [
    {
     "data": {
      "text/plain": [
       "array([0, 0, 0, 0])"
      ]
     },
     "execution_count": 29,
     "metadata": {},
     "output_type": "execute_result"
    }
   ],
   "source": [
    "a = np.array([0,0,0,0])\n",
    "ids = np.array([1,3])\n"
   ]
  },
  {
   "cell_type": "code",
   "execution_count": 72,
   "id": "6638b581",
   "metadata": {},
   "outputs": [
    {
     "name": "stdout",
     "output_type": "stream",
     "text": [
      "      cluster\n",
      "user         \n",
      "68          0\n",
      "111         0\n",
      "339         0\n",
      "356         0\n",
      "546         0\n",
      "...       ...\n",
      "501         0\n",
      "478         0\n",
      "508         0\n",
      "54          0\n",
      "245         0\n",
      "\n",
      "[604 rows x 1 columns]\n"
     ]
    }
   ],
   "source": [
    "average_ranking = remaining_df[\"rating\"].mean()\n",
    "def predict(user_id, movie_id):\n",
    "    cluster = int(user_clusters.loc[user_id, \"cluster\"])\n",
    "    users_in_cluster = user_clusters.loc[user_clusters[\"cluster\"] == cluster]\n",
    "    print(users_in_cluster)\n",
    "#     rating = remaining_df.loc[(remaining_df[\"cluster\"] == cluster) & (remaining_df[\"movieId\"] == movie_id)][\"rating\"].mean()\n",
    "    \n",
    "#     if np.isnan(rating):\n",
    "#         rating = remaining_df.loc[remaining_df[\"movieId\"] == movie_id][\"rating\"].mean()\n",
    "        \n",
    "#         if np.isnan(rating):\n",
    "#             rating = average_ranking\n",
    "        \n",
    "#     return rating\n",
    "    \n",
    "# y_predicted = np.array([predict(user_id, movie_id) for user_id, movie_id in zip(test_pairs[\"userId\"] ,test_pairs[\"movieId\"])])\n",
    "\n",
    "# y_predicted\n",
    "    \n",
    "# mean_squared_error(y_predicted, actual_ratings)\n",
    "predict(10,69)"
   ]
  },
  {
   "cell_type": "code",
   "execution_count": null,
   "id": "8cd8db43",
   "metadata": {},
   "outputs": [],
   "source": [
    "330019 * 38705 / 1024 /1024 /1024"
   ]
  }
 ],
 "metadata": {
  "kernelspec": {
   "display_name": "Python 3 (ipykernel)",
   "language": "python",
   "name": "python3"
  },
  "language_info": {
   "codemirror_mode": {
    "name": "ipython",
    "version": 3
   },
   "file_extension": ".py",
   "mimetype": "text/x-python",
   "name": "python",
   "nbconvert_exporter": "python",
   "pygments_lexer": "ipython3",
   "version": "3.9.13"
  }
 },
 "nbformat": 4,
 "nbformat_minor": 5
}
