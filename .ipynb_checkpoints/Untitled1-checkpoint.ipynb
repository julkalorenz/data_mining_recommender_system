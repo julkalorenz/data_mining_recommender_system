{
 "cells": [
  {
   "cell_type": "code",
   "execution_count": 1,
   "id": "949529d8",
   "metadata": {},
   "outputs": [],
   "source": [
    "import numpy as np\n",
    "import pandas as pd\n",
    "import matplotlib.pyplot as plt\n",
    "import seaborn as sns\n"
   ]
  },
  {
   "cell_type": "code",
   "execution_count": 2,
   "id": "9dca1e29",
   "metadata": {},
   "outputs": [],
   "source": [
    "ratings_df = pd.read_csv(\"dataBig/ratings.csv\").drop(\"timestamp\", axis=1)"
   ]
  },
  {
   "cell_type": "code",
   "execution_count": 3,
   "id": "5f216894",
   "metadata": {},
   "outputs": [
    {
     "data": {
      "text/html": [
       "<div>\n",
       "<style scoped>\n",
       "    .dataframe tbody tr th:only-of-type {\n",
       "        vertical-align: middle;\n",
       "    }\n",
       "\n",
       "    .dataframe tbody tr th {\n",
       "        vertical-align: top;\n",
       "    }\n",
       "\n",
       "    .dataframe thead th {\n",
       "        text-align: right;\n",
       "    }\n",
       "</style>\n",
       "<table border=\"1\" class=\"dataframe\">\n",
       "  <thead>\n",
       "    <tr style=\"text-align: right;\">\n",
       "      <th></th>\n",
       "      <th>userId</th>\n",
       "      <th>movieId</th>\n",
       "      <th>rating</th>\n",
       "    </tr>\n",
       "  </thead>\n",
       "  <tbody>\n",
       "    <tr>\n",
       "      <th>0</th>\n",
       "      <td>254775</td>\n",
       "      <td>6870</td>\n",
       "      <td>3.5</td>\n",
       "    </tr>\n",
       "    <tr>\n",
       "      <th>1</th>\n",
       "      <td>123364</td>\n",
       "      <td>2571</td>\n",
       "      <td>4.5</td>\n",
       "    </tr>\n",
       "    <tr>\n",
       "      <th>2</th>\n",
       "      <td>311036</td>\n",
       "      <td>165699</td>\n",
       "      <td>2.5</td>\n",
       "    </tr>\n",
       "    <tr>\n",
       "      <th>3</th>\n",
       "      <td>14961</td>\n",
       "      <td>509</td>\n",
       "      <td>3.0</td>\n",
       "    </tr>\n",
       "    <tr>\n",
       "      <th>4</th>\n",
       "      <td>73223</td>\n",
       "      <td>1200</td>\n",
       "      <td>4.0</td>\n",
       "    </tr>\n",
       "    <tr>\n",
       "      <th>...</th>\n",
       "      <td>...</td>\n",
       "      <td>...</td>\n",
       "      <td>...</td>\n",
       "    </tr>\n",
       "    <tr>\n",
       "      <th>33832157</th>\n",
       "      <td>18606</td>\n",
       "      <td>457</td>\n",
       "      <td>4.0</td>\n",
       "    </tr>\n",
       "    <tr>\n",
       "      <th>33832158</th>\n",
       "      <td>25653</td>\n",
       "      <td>96020</td>\n",
       "      <td>5.0</td>\n",
       "    </tr>\n",
       "    <tr>\n",
       "      <th>33832159</th>\n",
       "      <td>56721</td>\n",
       "      <td>1682</td>\n",
       "      <td>5.0</td>\n",
       "    </tr>\n",
       "    <tr>\n",
       "      <th>33832160</th>\n",
       "      <td>181122</td>\n",
       "      <td>592</td>\n",
       "      <td>3.0</td>\n",
       "    </tr>\n",
       "    <tr>\n",
       "      <th>33832161</th>\n",
       "      <td>132738</td>\n",
       "      <td>113348</td>\n",
       "      <td>0.5</td>\n",
       "    </tr>\n",
       "  </tbody>\n",
       "</table>\n",
       "<p>33832162 rows × 3 columns</p>\n",
       "</div>"
      ],
      "text/plain": [
       "          userId  movieId  rating\n",
       "0         254775     6870     3.5\n",
       "1         123364     2571     4.5\n",
       "2         311036   165699     2.5\n",
       "3          14961      509     3.0\n",
       "4          73223     1200     4.0\n",
       "...          ...      ...     ...\n",
       "33832157   18606      457     4.0\n",
       "33832158   25653    96020     5.0\n",
       "33832159   56721     1682     5.0\n",
       "33832160  181122      592     3.0\n",
       "33832161  132738   113348     0.5\n",
       "\n",
       "[33832162 rows x 3 columns]"
      ]
     },
     "execution_count": 3,
     "metadata": {},
     "output_type": "execute_result"
    }
   ],
   "source": [
    "ratings_df =  ratings_df.sample(frac=1, random_state=420).reset_index(drop=True)\n",
    "ratings_df"
   ]
  },
  {
   "cell_type": "code",
   "execution_count": 4,
   "id": "8953a3c5",
   "metadata": {},
   "outputs": [
    {
     "name": "stdout",
     "output_type": "stream",
     "text": [
      "330975\n"
     ]
    },
    {
     "data": {
      "text/plain": [
       "83239"
      ]
     },
     "execution_count": 4,
     "metadata": {},
     "output_type": "execute_result"
    }
   ],
   "source": [
    "print(len(ratings_df[\"userId\"].unique()))\n",
    "len(ratings_df[\"movieId\"].unique())"
   ]
  },
  {
   "cell_type": "code",
   "execution_count": 5,
   "id": "22bb2921",
   "metadata": {},
   "outputs": [],
   "source": [
    "test_ratings_df = ratings_df.sample(int(len(ratings_df)*0.1), random_state=420)\n",
    "sampled_indices = test_ratings_df.index\n",
    "\n",
    "test_pairs =  test_ratings_df[[\"userId\", \"movieId\"]]\n",
    "actual_ratings = test_ratings_df[\"rating\"]\n",
    "remaining_df = ratings_df.drop(sampled_indices)\n",
    "\n",
    "del ratings_df\n",
    "del sampled_indices"
   ]
  },
  {
   "cell_type": "code",
   "execution_count": null,
   "id": "ac07c566",
   "metadata": {},
   "outputs": [],
   "source": []
  },
  {
   "cell_type": "code",
   "execution_count": 6,
   "id": "81941d77",
   "metadata": {},
   "outputs": [],
   "source": [
    "# Removing rarly scored movies\n",
    "movie_counts = remaining_df['movieId'].value_counts()\n",
    "rare_movies = movie_counts[movie_counts < 5].index\n",
    "remaining_df = remaining_df[~remaining_df['movieId'].isin(rare_movies)]\n",
    "del rare_movies"
   ]
  },
  {
   "cell_type": "code",
   "execution_count": 7,
   "id": "8993d7d8",
   "metadata": {},
   "outputs": [],
   "source": [
    "remaining_df = remaining_df[remaining_df[\"rating\"] >= 4 ]"
   ]
  },
  {
   "cell_type": "code",
   "execution_count": 8,
   "id": "35bc6d07",
   "metadata": {},
   "outputs": [],
   "source": [
    "# remaining_df = remaining_df.iloc[:1000]\n",
    "movies = remaining_df[\"movieId\"].unique()\n",
    "users = remaining_df[\"userId\"].unique()"
   ]
  },
  {
   "cell_type": "code",
   "execution_count": 9,
   "id": "580f2cd5",
   "metadata": {},
   "outputs": [],
   "source": [
    "from sklearn.cluster import MiniBatchKMeans, KMeans\n",
    "# import warnings\n",
    "# # warnings.filterwarnings('ignore')"
   ]
  },
  {
   "cell_type": "code",
   "execution_count": null,
   "id": "1a167087",
   "metadata": {},
   "outputs": [
    {
     "name": "stdout",
     "output_type": "stream",
     "text": [
      "Iteration 0\n",
      "Iteration 1\n",
      "Iteration 2\n"
     ]
    }
   ],
   "source": [
    "kmeans = MiniBatchKMeans(n_clusters=11,\n",
    "                         random_state=420,\n",
    "                         n_init=\"auto\")\n",
    "          \n",
    "number_of_batches = 49\n",
    "\n",
    "\n",
    "for iteration, users_batch in enumerate(np.array_split(users, number_of_batches)):\n",
    "    print(f\"Iteration {iteration}\")\n",
    "    \n",
    "    ratings = remaining_df.loc[remaining_df[\"userId\"].isin(users_batch)]\n",
    "#     print(ratings)\n",
    "    X = pd.pivot_table(ratings, index=[\"userId\"], columns=\"movieId\").fillna(False).astype(bool)\n",
    "    X.columns = X.columns.get_level_values(1)\n",
    "    X = X.reindex(columns = movies, fill_value=False)\n",
    "\n",
    "    kmeans.partial_fit(X)\n",
    "# \n",
    "    "
   ]
  },
  {
   "cell_type": "code",
   "execution_count": null,
   "id": "910a4712",
   "metadata": {},
   "outputs": [],
   "source": [
    "user_clusters = pd.DataFrame({\"userId\": users, \"cluster\": 99}).set_index(\"userId\")\n",
    "user_clusters\n",
    "\n",
    "x=0\n",
    "for iteration, users_batch in enumerate(np.array_split(users, number_of_batches)):\n",
    "    print(f\"Iteration {iteration}\")\n",
    "    \n",
    "    ratings = remaining_df.loc[remaining_df[\"userId\"].isin(users_batch)]\n",
    "    X = pd.pivot_table(ratings, index=\"userId\", columns=\"movieId\").fillna(False).astype(bool)\n",
    "    X.columns = X.columns.get_level_values(1)\n",
    "    X = X.reindex(columns = movies, fill_value=False)\n",
    "    \n",
    "    batch_clusters = kmeans.predict(X)\n",
    "    for i, user_id in enumerate(users_batch):\n",
    "        user_clusters.loc[user_id, \"cluster\"] = batch_clusters[i]\n",
    "\n",
    "sns.countplot(data = user_clusters, x = \"cluster\")"
   ]
  },
  {
   "cell_type": "code",
   "execution_count": null,
   "id": "fa281103",
   "metadata": {},
   "outputs": [],
   "source": [
    "sns.countplot(data = user_clusters, x = \"cluster\")"
   ]
  },
  {
   "cell_type": "code",
   "execution_count": null,
   "id": "cd24fffb",
   "metadata": {},
   "outputs": [],
   "source": []
  },
  {
   "cell_type": "code",
   "execution_count": null,
   "id": "991a0918",
   "metadata": {},
   "outputs": [],
   "source": []
  },
  {
   "cell_type": "code",
   "execution_count": null,
   "id": "6638b581",
   "metadata": {},
   "outputs": [],
   "source": [
    "from sklearn.metrics import mean_squared_error\n",
    "\n",
    "users_not_in_training = 0\n",
    "movies_not_watched_in_cluster = 0\n",
    "movie_not_in_training = 0\n",
    "\n",
    "average_ranking = remaining_df[\"rating\"].mean()\n",
    "def predict(user_id, movie_id):\n",
    "    global users_not_in_training, movies_not_watched_in_cluster, movie_not_in_training\n",
    "\n",
    "    if user_id not in user_clusters.index:\n",
    "        users_not_in_training += 1\n",
    "        return average_ranking\n",
    "    \n",
    "    cluster = int(user_clusters.loc[user_id, \"cluster\"])\n",
    "    users_in_cluster = user_clusters.loc[user_clusters[\"cluster\"] == cluster]\n",
    "    rating = remaining_df.loc[(remaining_df[\"userId\"].isin(users_in_cluster.index)) & (remaining_df[\"movieId\"] == movie_id)][\"rating\"].mean()\n",
    "    if np.isnan(rating):\n",
    "        rating = remaining_df.loc[remaining_df[\"movieId\"] == movie_id][\"rating\"].mean()\n",
    "        \n",
    "        if np.isnan(rating):\n",
    "            movie_not_in_training += 1\n",
    "            rating = average_ranking\n",
    "        else:\n",
    "            movies_not_watched_in_cluster += 1\n",
    "        \n",
    "    return rating\n",
    "    \n",
    "y_predicted = np.array([predict(user_id, movie_id) for user_id, movie_id in zip(test_pairs[\"userId\"] ,test_pairs[\"movieId\"])])\n",
    "total = len(y_predicted)\n",
    "\n",
    "print(users_not_in_training/total)\n",
    "print(movies_not_watched_in_cluster/total)\n",
    "print(movie_not_in_training/total)\n",
    "\n",
    "y_predicted\n",
    "    \n",
    "mean_squared_error(y_predicted, actual_ratings)\n"
   ]
  },
  {
   "cell_type": "code",
   "execution_count": null,
   "id": "37f55f4a",
   "metadata": {},
   "outputs": [],
   "source": []
  },
  {
   "cell_type": "code",
   "execution_count": null,
   "id": "8cd8db43",
   "metadata": {},
   "outputs": [],
   "source": [
    "330019 * 38705 / 1024 /1024 /1024"
   ]
  }
 ],
 "metadata": {
  "kernelspec": {
   "display_name": "Python 3 (ipykernel)",
   "language": "python",
   "name": "python3"
  },
  "language_info": {
   "codemirror_mode": {
    "name": "ipython",
    "version": 3
   },
   "file_extension": ".py",
   "mimetype": "text/x-python",
   "name": "python",
   "nbconvert_exporter": "python",
   "pygments_lexer": "ipython3",
   "version": "3.9.13"
  }
 },
 "nbformat": 4,
 "nbformat_minor": 5
}
