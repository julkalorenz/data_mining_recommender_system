{
 "cells": [
  {
   "cell_type": "code",
   "execution_count": null,
   "id": "949529d8",
   "metadata": {},
   "outputs": [],
   "source": [
    "import numpy as np\n",
    "import pandas as pd\n",
    "import matplotlib.pyplot as plt\n",
    "import seaborn as sns\n"
   ]
  },
  {
   "cell_type": "code",
   "execution_count": null,
   "id": "9dca1e29",
   "metadata": {},
   "outputs": [],
   "source": [
    "ratings_df = pd.read_csv(\"bigData/ratings.csv\").drop(\"timestamp\", axis=1)"
   ]
  },
  {
   "cell_type": "code",
   "execution_count": null,
   "id": "5f216894",
   "metadata": {},
   "outputs": [],
   "source": [
    "ratings_df =  ratings_df.sample(frac=1, random_state=420).reset_index(drop=True)\n",
    "ratings_df"
   ]
  },
  {
   "cell_type": "code",
   "execution_count": null,
   "id": "8953a3c5",
   "metadata": {},
   "outputs": [],
   "source": [
    "print(len(ratings_df[\"userId\"].unique()))\n",
    "len(ratings_df[\"movieId\"].unique())"
   ]
  },
  {
   "cell_type": "code",
   "execution_count": null,
   "id": "22bb2921",
   "metadata": {},
   "outputs": [],
   "source": [
    "test_ratings_df = ratings_df.sample(int(len(ratings_df)*0.1), random_state=420)\n",
    "sampled_indices = test_ratings_df.index\n",
    "\n",
    "test_pairs =  test_ratings_df[[\"userId\", \"movieId\"]]\n",
    "actual_ratings = test_ratings_df[\"rating\"]\n",
    "remaining_df = ratings_df.drop(sampled_indices)\n",
    "\n",
    "del ratings_df\n",
    "del sampled_indices"
   ]
  },
  {
   "cell_type": "code",
   "execution_count": null,
   "id": "ac07c566",
   "metadata": {},
   "outputs": [],
   "source": []
  },
  {
   "cell_type": "code",
   "execution_count": null,
   "id": "81941d77",
   "metadata": {},
   "outputs": [],
   "source": [
    "# Removing rarly scored movies\n",
    "movie_counts = remaining_df['movieId'].value_counts()\n",
    "rare_movies = movie_counts[movie_counts < 5].index\n",
    "remaining_df = remaining_df[~remaining_df['movieId'].isin(rare_movies)]\n",
    "del rare_movies"
   ]
  },
  {
   "cell_type": "code",
   "execution_count": null,
   "id": "8993d7d8",
   "metadata": {},
   "outputs": [],
   "source": [
    "remaining_df = remaining_df[remaining_df[\"rating\"] >= 4 ]"
   ]
  },
  {
   "cell_type": "code",
   "execution_count": null,
   "id": "35bc6d07",
   "metadata": {},
   "outputs": [],
   "source": [
    "# remaining_df = remaining_df.iloc[:1000]\n",
    "movies = remaining_df[\"movieId\"].unique()\n",
    "users = remaining_df[\"userId\"].unique()"
   ]
  },
  {
   "cell_type": "code",
   "execution_count": null,
   "id": "580f2cd5",
   "metadata": {},
   "outputs": [],
   "source": [
    "from sklearn.cluster import MiniBatchKMeans, KMeans\n",
    "# import warnings\n",
    "# # warnings.filterwarnings('ignore')"
   ]
  },
  {
   "cell_type": "code",
   "execution_count": null,
   "id": "1a167087",
   "metadata": {},
   "outputs": [],
   "source": [
    "kmeans = MiniBatchKMeans(n_clusters=11,\n",
    "                         random_state=420,\n",
    "                         init=\"random\",\n",
    "                         n_init=\"auto\")\n",
    "          \n",
    "number_of_batches = 55\n",
    "\n",
    "\n",
    "for iteration, users_batch in enumerate(np.array_split(users, number_of_batches)[:2]):\n",
    "    print(f\"Iteration {iteration}\")\n",
    "    \n",
    "    ratings = remaining_df.loc[remaining_df[\"userId\"].isin(users_batch)]\n",
    "#     print(ratings)\n",
    "    X = pd.pivot_table(ratings, index=[\"userId\"], columns=\"movieId\").fillna(False).astype(bool)\n",
    "    X.columns = X.columns.get_level_values(1)\n",
    "    X = X.reindex(columns = movies, fill_value=False)\n",
    "\n",
    "    kmeans.partial_fit(X)\n",
    "# \n",
    "    "
   ]
  },
  {
   "cell_type": "code",
   "execution_count": null,
   "id": "58f57a0b",
   "metadata": {},
   "outputs": [],
   "source": [
    "user_clusters = pd.DataFrame({\"userId\": users, \"cluster\": 99}).set_index(\"userId\")\n",
    "user_clusters\n",
    "\n",
    "x=0\n",
    "for iteration, users_batch in enumerate(np.array_split(users, number_of_batches)):\n",
    "    print(f\"Iteration {iteration}\")\n",
    "    \n",
    "    ratings = remaining_df.loc[remaining_df[\"userId\"].isin(users_batch)]\n",
    "    X = pd.pivot_table(ratings, index=\"userId\", columns=\"movieId\").fillna(False).astype(bool)\n",
    "    X.columns = X.columns.get_level_values(1)\n",
    "    X = X.reindex(columns = movies, fill_value=False)\n",
    "    \n",
    "    batch_clusters = kmeans.predict(X)\n",
    "    for i, user_id in enumerate(users_batch):\n",
    "        user_clusters.loc[user_id, \"cluster\"] = batch_clusters[i]\n",
    "\n",
    "sns.countplot(data = user_clusters, x = \"cluster\")"
   ]
  },
  {
   "cell_type": "code",
   "execution_count": null,
   "id": "7593c9b0",
   "metadata": {},
   "outputs": [],
   "source": [
    "sns.countplot(data = user_clusters, x = \"cluster\")"
   ]
  },
  {
   "cell_type": "code",
   "execution_count": null,
   "id": "cd24fffb",
   "metadata": {},
   "outputs": [],
   "source": []
  },
  {
   "cell_type": "code",
   "execution_count": null,
   "id": "991a0918",
   "metadata": {},
   "outputs": [],
   "source": []
  },
  {
   "cell_type": "code",
   "execution_count": null,
   "id": "6638b581",
   "metadata": {},
   "outputs": [],
   "source": [
    "from sklearn.metrics import mean_squared_error\n",
    "\n",
    "users_not_in_training = 0\n",
    "movies_not_watched_in_cluster = 0\n",
    "movie_not_in_training = 0\n",
    "\n",
    "average_ranking = remaining_df[\"rating\"].mean()\n",
    "def predict(user_id, movie_id):\n",
    "    global users_not_in_training, movies_not_watched_in_cluster, movie_not_in_training\n",
    "\n",
    "    if user_id not in user_clusters.index:\n",
    "        users_not_in_training += 1\n",
    "        return average_ranking\n",
    "    \n",
    "    cluster = int(user_clusters.loc[user_id, \"cluster\"])\n",
    "    users_in_cluster = user_clusters.loc[user_clusters[\"cluster\"] == cluster]\n",
    "    rating = remaining_df.loc[(remaining_df[\"userId\"].isin(users_in_cluster.index)) & (remaining_df[\"movieId\"] == movie_id)][\"rating\"].mean()\n",
    "    if np.isnan(rating):\n",
    "        rating = remaining_df.loc[remaining_df[\"movieId\"] == movie_id][\"rating\"].mean()\n",
    "        \n",
    "        if np.isnan(rating):\n",
    "            movie_not_in_training += 1\n",
    "            rating = average_ranking\n",
    "        else:\n",
    "            movies_not_watched_in_cluster += 1\n",
    "        \n",
    "    return rating\n",
    "    \n",
    "y_predicted = np.array([predict(user_id, movie_id) for user_id, movie_id in zip(test_pairs[\"userId\"] ,test_pairs[\"movieId\"])])\n",
    "total = len(y_predicted)\n",
    "\n",
    "print(users_not_in_training/total)\n",
    "print(movies_not_watched_in_cluster/total)\n",
    "print(movie_not_in_training/total)\n",
    "\n",
    "y_predicted\n",
    "    \n",
    "mean_squared_error(y_predicted, actual_ratings)\n"
   ]
  },
  {
   "cell_type": "code",
   "execution_count": null,
   "id": "b87f3cf8",
   "metadata": {},
   "outputs": [],
   "source": []
  },
  {
   "cell_type": "code",
   "execution_count": null,
   "id": "8cd8db43",
   "metadata": {},
   "outputs": [],
   "source": [
    "330019 * 38705 / 1024 /1024 /1024"
   ]
  }
 ],
 "metadata": {
  "kernelspec": {
   "display_name": "Python 3 (ipykernel)",
   "language": "python",
   "name": "python3"
  },
  "language_info": {
   "codemirror_mode": {
    "name": "ipython",
    "version": 3
   },
   "file_extension": ".py",
   "mimetype": "text/x-python",
   "name": "python",
   "nbconvert_exporter": "python",
   "pygments_lexer": "ipython3",
   "version": "3.9.13"
  }
 },
 "nbformat": 4,
 "nbformat_minor": 5
}
